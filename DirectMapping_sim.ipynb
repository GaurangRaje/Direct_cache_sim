{
 "cells": [
  {
   "cell_type": "markdown",
   "metadata": {},
   "source": [
    "# Importing Library"
   ]
  },
  {
   "cell_type": "code",
   "execution_count": 1,
   "metadata": {},
   "outputs": [],
   "source": [
    "import numpy as np"
   ]
  },
  {
   "cell_type": "markdown",
   "metadata": {},
   "source": [
    "# Partitioning the address byte"
   ]
  },
  {
   "cell_type": "code",
   "execution_count": 32,
   "metadata": {},
   "outputs": [],
   "source": [
    "def partition(i):\n",
    "    b_offset = int(\"{:02d}\".format(i%100))\n",
    "    b_no = int(i / 100)\n",
    "    tag = int(b_no / 100)\n",
    "    line_no = int(\"{:02d}\".format(b_no%100))\n",
    "    return tag, line_no, b_no, b_offset"
   ]
  },
  {
   "cell_type": "markdown",
   "metadata": {},
   "source": [
    "# Initial Condiitons"
   ]
  },
  {
   "cell_type": "code",
   "execution_count": 33,
   "metadata": {},
   "outputs": [],
   "source": [
    "cache = [np.array([int, np.empty(4), 0], dtype=object), \n",
    "         np.array([int, np.empty(4), 0], dtype=object), \n",
    "         np.array([int, np.empty(4), 0], dtype=object), \n",
    "         np.array([int, np.empty(4), 0], dtype=object)] \n",
    "mem = [[0]*4 for x in range(32)]"
   ]
  },
  {
   "cell_type": "code",
   "execution_count": 34,
   "metadata": {},
   "outputs": [
    {
     "data": {
      "text/plain": [
       "[[0, 4, 8, 12, 16, 20, 24, 28],\n",
       " [1, 5, 9, 13, 17, 21, 25, 29],\n",
       " [2, 6, 10, 14, 18, 22, 26, 30],\n",
       " [3, 7, 11, 15, 19, 23, 27, 31]]"
      ]
     },
     "execution_count": 34,
     "metadata": {},
     "output_type": "execute_result"
    }
   ],
   "source": [
    "direct_hash = [[] for x in range(4)]\n",
    "direct_map = {}\n",
    "for i in range(32):\n",
    "    direct_map[i] = i % 4\n",
    "\n",
    "for i in direct_map:\n",
    "    direct_hash[direct_map[i]].append(i)\n",
    "\n",
    "direct_hash"
   ]
  },
  {
   "cell_type": "markdown",
   "metadata": {},
   "source": [
    "# Check Cache"
   ]
  },
  {
   "cell_type": "code",
   "execution_count": 47,
   "metadata": {},
   "outputs": [],
   "source": [
    "def check_cache(tag, line_no, b_offset):\n",
    "    valid = 0\n",
    "    \n",
    "    required_bno = direct_hash[line_no][tag]\n",
    "    \n",
    "    if(cache[line_no][0] == required_bno): #hit\n",
    "        valid = 1\n",
    "        print(f\"Data: {cache[line_no][1][b_offset]}\")\n",
    "    else: #Miss\n",
    "        valid = 0\n",
    "        print(f\"Data: {mem[required_bno][b_offset]}\")\n",
    "        cache[line_no][0] = required_bno\n",
    "        cache[line_no][1] = mem[required_bno]\n",
    "        \n",
    "            \n",
    "    return int(valid)"
   ]
  },
  {
   "cell_type": "markdown",
   "metadata": {},
   "source": [
    "# Main"
   ]
  },
  {
   "cell_type": "code",
   "execution_count": null,
   "metadata": {},
   "outputs": [
    {
     "name": "stdout",
     "output_type": "stream",
     "text": [
      "Enter 1 for read, 0 for write and q to exit: \n"
     ]
    },
    {
     "name": "stdin",
     "output_type": "stream",
     "text": [
      " 1\n"
     ]
    },
    {
     "name": "stdout",
     "output_type": "stream",
     "text": [
      "Enter memory address: \n"
     ]
    },
    {
     "name": "stdin",
     "output_type": "stream",
     "text": [
      " 0000011\n"
     ]
    },
    {
     "name": "stdout",
     "output_type": "stream",
     "text": [
      "block_number: 0\n",
      "block_offset: 3\n",
      "line_number: 0\n",
      "tag: 0\n",
      "Data: 42\n",
      "Hit/Miss: 0\n",
      "Enter 1 for read, 0 for write and q to exit: \n"
     ]
    }
   ],
   "source": [
    "while(1):\n",
    "    print(\"Enter 1 for read, 0 for write and q to exit: \")\n",
    "    temp = input()\n",
    "    if(temp == 'q'): # Quit Condition\n",
    "        break\n",
    "    else:\n",
    "        rw = int(temp)\n",
    "        print(\"Enter memory address: \")\n",
    "        i = int(input())\n",
    "        \n",
    "        tag, line_number, block_number, block_offset = partition(i)\n",
    "        \n",
    "        block_number = int(str(block_number), 2)\n",
    "        block_offset = int(str(block_offset), 2)\n",
    "        line_number = int(str(line_number), 2)\n",
    "        tag = int(str(tag), 2)\n",
    "        \n",
    "        print(f\"block_number: {block_number}\")\n",
    "        print(f\"block_offset: {block_offset}\")\n",
    "        print(f\"line_number: {line_number}\")\n",
    "        print(f\"tag: {tag}\")\n",
    "        \n",
    "        if(rw): # Read Operation\n",
    "            hit = check_cache(tag, line_number, block_offset)\n",
    "            print(f\"Hit/Miss: {hit}\")\n",
    "    \n",
    "        else: # Write Operation\n",
    "            print(\"Enter data: \")\n",
    "            data = int(input())\n",
    "            mem[block_number][block_offset] = data"
   ]
  },
  {
   "cell_type": "markdown",
   "metadata": {},
   "source": [
    "# Debug"
   ]
  },
  {
   "cell_type": "code",
   "execution_count": 48,
   "metadata": {},
   "outputs": [
    {
     "data": {
      "text/plain": [
       "[[0, 0, 0, 42],\n",
       " [420, 0, 0, 0],\n",
       " [0, 0, 0, 0],\n",
       " [0, 0, 0, 0],\n",
       " [1977, 0, 0, 0],\n",
       " [0, 0, 0, 0],\n",
       " [0, 0, 0, 0],\n",
       " [0, 0, 0, 0],\n",
       " [0, 0, 0, 0],\n",
       " [0, 0, 0, 0],\n",
       " [0, 0, 0, 0],\n",
       " [0, 0, 0, 0],\n",
       " [0, 0, 0, 0],\n",
       " [0, 0, 0, 0],\n",
       " [0, 0, 0, 0],\n",
       " [0, 0, 0, 0],\n",
       " [0, 0, 0, 0],\n",
       " [0, 0, 0, 0],\n",
       " [0, 0, 0, 0],\n",
       " [0, 0, 0, 0],\n",
       " [0, 0, 0, 0],\n",
       " [0, 0, 0, 0],\n",
       " [0, 0, 0, 0],\n",
       " [0, 0, 0, 0],\n",
       " [0, 0, 0, 0],\n",
       " [0, 0, 0, 0],\n",
       " [0, 0, 0, 0],\n",
       " [0, 0, 0, 0],\n",
       " [0, 0, 0, 0],\n",
       " [0, 0, 0, 0],\n",
       " [0, 0, 0, 0],\n",
       " [0, 0, 0, 0]]"
      ]
     },
     "execution_count": 48,
     "metadata": {},
     "output_type": "execute_result"
    }
   ],
   "source": [
    "mem"
   ]
  },
  {
   "cell_type": "code",
   "execution_count": 46,
   "metadata": {},
   "outputs": [
    {
     "data": {
      "text/plain": [
       "[array([4, list([1977, 0, 0, 0]), 0], dtype=object),\n",
       " array([<class 'int'>,\n",
       "        array([-3.10503618e+231, -3.10503618e+231,  1.97626258e-323,\n",
       "         0.00000000e+000]),\n",
       "        0], dtype=object),\n",
       " array([<class 'int'>,\n",
       "        array([-3.10503618e+231, -3.10503618e+231, -3.10503618e+231,\n",
       "        -3.10503618e+231]),\n",
       "        0], dtype=object),\n",
       " array([<class 'int'>,\n",
       "        array([-3.10503618e+231, -3.10503618e+231,  3.45845952e-323,\n",
       "         0.00000000e+000]),\n",
       "        0], dtype=object)]"
      ]
     },
     "execution_count": 46,
     "metadata": {},
     "output_type": "execute_result"
    }
   ],
   "source": [
    "cache"
   ]
  },
  {
   "cell_type": "code",
   "execution_count": null,
   "metadata": {},
   "outputs": [],
   "source": []
  }
 ],
 "metadata": {
  "kernelspec": {
   "display_name": "Python 3",
   "language": "python",
   "name": "python3"
  },
  "language_info": {
   "codemirror_mode": {
    "name": "ipython",
    "version": 3
   },
   "file_extension": ".py",
   "mimetype": "text/x-python",
   "name": "python",
   "nbconvert_exporter": "python",
   "pygments_lexer": "ipython3",
   "version": "3.7.3"
  }
 },
 "nbformat": 4,
 "nbformat_minor": 4
}
